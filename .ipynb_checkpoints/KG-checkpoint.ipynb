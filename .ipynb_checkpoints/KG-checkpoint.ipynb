{
 "cells": [
  {
   "cell_type": "markdown",
   "id": "d63e5a4b55bd1dba",
   "metadata": {},
   "source": [
    "### 0.数据预览"
   ]
  },
  {
   "cell_type": "code",
   "execution_count": 2,
   "id": "b94d792ddd018270",
   "metadata": {
    "ExecuteTime": {
     "end_time": "2024-02-02T08:45:32.894655500Z",
     "start_time": "2024-02-02T08:45:23.200410300Z"
    }
   },
   "outputs": [
    {
     "data": {
      "text/plain": [
       "'1.4.3'"
      ]
     },
     "execution_count": 2,
     "metadata": {},
     "output_type": "execute_result"
    }
   ],
   "source": [
    "import pandas as pd\n",
    "pd.__version__"
   ]
  },
  {
   "cell_type": "code",
   "execution_count": 7,
   "id": "c6546b043653c2c8",
   "metadata": {
    "ExecuteTime": {
     "end_time": "2024-02-02T08:56:54.935254800Z",
     "start_time": "2024-02-02T08:56:54.781224200Z"
    }
   },
   "outputs": [
    {
     "name": "stdout",
     "output_type": "stream",
     "text": [
      "   id         company           title    salary education  \\\n",
      "0   0      广东倾云科技有限公司  【初级】web前端开发工程师  2-4K·13薪        大专   \n",
      "1   1    火眼科技（天津）有限公司         IT运维工程师      2-4K        大专   \n",
      "2   2  郑州玉带信息技术有限责任公司    实习web前端开发工程师      1-6K        大专   \n",
      "3   3      广东天勤科技有限公司     兴宁前端、程序员实习生      1-4K        大专   \n",
      "4   4    武汉赢月网络科技有限公司           运维工程师      2-3K        大专   \n",
      "\n",
      "                                         description hiring_manager  \\\n",
      "0  1.熟悉HTML5、JavaScript、CSS3;2.熟悉使用css3的flex/grid...            梁先生   \n",
      "1  一、工作内容1、软件数据分析，月/季报告撰写2、软件平台学习，能够熟练讲解，在使用过程中能够...            刘向宇   \n",
      "2  参加公司自研产品的Web和微信端小程序开发，使用vue、elementUI和eCharts，...            郭先生   \n",
      "3  实习生要求：1、需要在梅州兴宁市长期工作（家在梅州市内）2、统招全日制大专或以上学历的应届毕...            林先生   \n",
      "4                                    负责日常网络及各子系统管理维护             赵爽   \n",
      "\n",
      "  last_active             address  \\\n",
      "0       2周内活跃      中山广东倾云科技有限公司一层   \n",
      "1        刚刚活跃       衡水桃城区众成大厦2407   \n",
      "2        刚刚活跃    郑州二七区升龙世纪花园壹区1号楼   \n",
      "3          在线        梅州兴宁市天勤网络37号   \n",
      "4        刚刚活跃  武汉洪山区长航·蓝晶国际7栋1009   \n",
      "\n",
      "                                                link  \n",
      "0  https://www.zhipin.com/job_detail/2c08c111e752...  \n",
      "1  https://www.zhipin.com/job_detail/8095129b4242...  \n",
      "2  https://www.zhipin.com/job_detail/83875f1369c5...  \n",
      "3  https://www.zhipin.com/job_detail/9a7d1cb58dc7...  \n",
      "4  https://www.zhipin.com/job_detail/f59b21cdfee8...  \n"
     ]
    }
   ],
   "source": [
    "raw_data_file = 'A15.csv'\n",
    "df = pd.read_csv(raw_data_file)\n",
    "print(df.head())"
   ]
  },
  {
   "cell_type": "markdown",
   "id": "824b50f389740281",
   "metadata": {},
   "source": [
    "### 1.数据预处理\n",
    "根据企业提供的数据集，共有8763条计算机类/电子类招聘相关的数据，来源于boss直聘，对所给数据进行预处理\n",
    " (1)id:有用。\n",
    " (2)公司名称：有200多个显示为\"gongsi\",应置为空\n",
    " (3)职位名称：可进一步分类，提取出是否实习（实习、全职）、职位类别（前端、后端、运维等）\n",
    " (4)薪资：(最低-最高)*薪数、面议\n",
    " (5)学历要求：大专、本科、硕士、博士\n",
    " (6)职位描述：非结构化数据\n",
    " (7)发布人：没有用，删除\n",
    " (8)最后活跃：没有用，删除\n",
    " (9)工作地点：提取城市，有一个职位缺失：手动补充\n",
    " (10)网址：没有用，删除\n",
    "预处理后的数据中包含`id`、`公司名称`、`城市`、`职位名称`、`职位类别`、`薪资`、`学历要求`、`是否实习`等结构化数据，可直接用于职位知识图谱的构建，以及`职位描述`等非结构化数据，需要对其进行实体识别与关系抽取。"
   ]
  },
  {
   "cell_type": "code",
   "execution_count": 17,
   "id": "bf4c90a92755e55d",
   "metadata": {
    "ExecuteTime": {
     "end_time": "2024-02-02T11:19:42.736724600Z",
     "start_time": "2024-02-02T11:19:42.621698100Z"
    }
   },
   "outputs": [
    {
     "name": "stdout",
     "output_type": "stream",
     "text": [
      "id                                                    199\n",
      "公司名称                                        福州市从古网络科技有限公司\n",
      "城市                                                     福州\n",
      "职位名称                                              前端开发工程师\n",
      "职位类别                                                   前端\n",
      "是否实习                                                   全职\n",
      "薪资                                                   2-4K\n",
      "学历要求                                                   大专\n",
      "职位描述    掌握的HTML+JavaScript+CSS基础至少熟悉Vue、React、Angular等...\n",
      "地址                                        福州闽侯县正荣·财富中心5号楼\n",
      "Name: 199, dtype: object\n"
     ]
    }
   ],
   "source": [
    "raw_data_file = 'A15.csv'\n",
    "df = pd.read_csv(raw_data_file)\n",
    "print(df.iloc[199])"
   ]
  },
  {
   "cell_type": "markdown",
   "id": "500bb7e4a4e19637",
   "metadata": {},
   "source": [
    "### 2.本体构建\n",
    "对于非结构化数据，抽取“专业能力”、“专业知识”、“个人素养”作为顶层概念。其中，“专业能力”主要包含专业工具使用、计算机技能、英语水平等；“专业知识”主要包含专业类型要求和专业知识要求；“个人素养”主要包含学习能力、进取精神、社交能力、工作态度等。\n"
   ]
  },
  {
   "cell_type": "markdown",
   "id": "aad29f3e50f13386",
   "metadata": {},
   "source": [
    "### 3.知识抽取\n",
    "#### 语料库标注\n",
    "为了方便计算机识别，需要对招聘信息中的非结构化文本进一步处理。\n",
    "(1)分词"
   ]
  },
  {
   "cell_type": "code",
   "execution_count": 7,
   "id": "dbdaf5f6f82cd0ec",
   "metadata": {
    "ExecuteTime": {
     "end_time": "2024-02-04T09:05:57.191776200Z",
     "start_time": "2024-02-04T09:05:57.137221200Z"
    }
   },
   "outputs": [
    {
     "ename": "ImportError",
     "evalue": "cannot import name 'analyse' from 'jieba' (E:\\Python\\lib\\site-packages\\jieba\\__init__.py)",
     "output_type": "error",
     "traceback": [
      "\u001b[1;31m---------------------------------------------------------------------------\u001b[0m",
      "\u001b[1;31mImportError\u001b[0m                               Traceback (most recent call last)",
      "Cell \u001b[1;32mIn [7], line 1\u001b[0m\n\u001b[1;32m----> 1\u001b[0m \u001b[38;5;28;01mfrom\u001b[39;00m \u001b[38;5;21;01mjieba\u001b[39;00m \u001b[38;5;28;01mimport\u001b[39;00m analyse\n\u001b[0;32m      2\u001b[0m tfidf \u001b[38;5;241m=\u001b[39m analyse\u001b[38;5;241m.\u001b[39mextract_tags\n\u001b[0;32m      4\u001b[0m keywords \u001b[38;5;241m=\u001b[39m tfidf(\u001b[38;5;124m'\u001b[39m\u001b[38;5;124m你好，我是来自中国的小明\u001b[39m\u001b[38;5;124m'\u001b[39m)\n",
      "\u001b[1;31mImportError\u001b[0m: cannot import name 'analyse' from 'jieba' (E:\\Python\\lib\\site-packages\\jieba\\__init__.py)"
     ]
    }
   ],
   "source": []
  },
  {
   "cell_type": "markdown",
   "id": "471f490bf79f2ec8",
   "metadata": {},
   "source": [
    "(2)序列标注(BIO标记法)\n",
    "B 标记表示一个命名实体的开始，I 标记表示一个命名实体的内部，O 标记表示不属于任何命名实体。\n",
    "将语料库中的词分为专业知识（ZS）、专业技能（JN）、个人素养（PS）三类实体。\n",
    "#### 实体抽取\n",
    "首先使用 BERT 模型将输入的非结构化语料编码为融合字、字所在句子以及字所在位置三个特征的向量形式，\n",
    "然后将该向量输入到 BiLSTM 中，利用双向循环结构捕捉序列中的上下文信息，\n",
    "最后，将 BiLSTM 的输出传递到 CRF 中进行标注，预测每个单词的实体标签，提取最优序列，以得到专业能力、专业知识和个人素养三类实体。\n",
    "#### 关系抽取\n",
    "前面结构化的实体只需对数据进行简单处理即可使用。\n",
    "对于职位与专业技能、专业知识、个人素养之间的关系利用`依存句法分析`可以有效识别。\n",
    "即`所需知识`、`所需技能`、`所需特质`。\n",
    "完成实体关系抽取后，发现有一部分知识是描述能力水平的程度词，例如“善于”、“熟悉”、“掌握”等.这些词语义相似，为了避免冗余，对这些词进行聚类操作。\n",
    "首先，使用 word2vec将程度词转换为定长的向量表示，\n",
    "然后通过计算两个向量之间的夹角余弦值，利用余弦相似度来衡量它们之间的相似度。\n",
    "最终抽取出 58 个能力水平程度词，将“精通”设置为阈值 1，然后计算其他程度词向量与“精通”向量间的相似度。"
   ]
  },
  {
   "cell_type": "markdown",
   "id": "2b6eaf899174fdca",
   "metadata": {},
   "source": [
    "### 4.知识存储\n",
    "关系抽取完成后，得到一系列具有节点、关系和属性的三元组,使用 Neo4j 图数据库进行实体和关系存储以及可视化。"
   ]
  },
  {
   "cell_type": "code",
   "execution_count": 3,
   "id": "13cb75472cbf641c",
   "metadata": {
    "ExecuteTime": {
     "end_time": "2024-02-03T12:50:27.402070300Z",
     "start_time": "2024-02-03T12:50:25.847519500Z"
    }
   },
   "outputs": [
    {
     "ename": "ModuleNotFoundError",
     "evalue": "No module named 'paddle.fluid'",
     "output_type": "error",
     "traceback": [
      "\u001b[1;31m---------------------------------------------------------------------------\u001b[0m",
      "\u001b[1;31mModuleNotFoundError\u001b[0m                       Traceback (most recent call last)",
      "Cell \u001b[1;32mIn [3], line 1\u001b[0m\n\u001b[1;32m----> 1\u001b[0m \u001b[38;5;28;01mfrom\u001b[39;00m \u001b[38;5;21;01mLAC\u001b[39;00m \u001b[38;5;28;01mimport\u001b[39;00m LAC\n\u001b[0;32m      3\u001b[0m \u001b[38;5;66;03m# 装载分词模型\u001b[39;00m\n\u001b[0;32m      4\u001b[0m lac \u001b[38;5;241m=\u001b[39m LAC(mode\u001b[38;5;241m=\u001b[39m\u001b[38;5;124m'\u001b[39m\u001b[38;5;124mseg\u001b[39m\u001b[38;5;124m'\u001b[39m)\n",
      "File \u001b[1;32mE:\\Python\\lib\\site-packages\\LAC\\__init__.py:23\u001b[0m\n\u001b[0;32m     20\u001b[0m version \u001b[38;5;241m=\u001b[39m \u001b[38;5;124m\"\u001b[39m\u001b[38;5;124m2.1.2\u001b[39m\u001b[38;5;124m\"\u001b[39m\n\u001b[0;32m     21\u001b[0m version_info \u001b[38;5;241m=\u001b[39m (\u001b[38;5;241m2\u001b[39m, \u001b[38;5;241m1\u001b[39m, \u001b[38;5;241m2\u001b[39m, \u001b[38;5;241m0\u001b[39m)\n\u001b[1;32m---> 23\u001b[0m \u001b[38;5;28;01mfrom\u001b[39;00m \u001b[38;5;21;01m.\u001b[39;00m\u001b[38;5;21;01mlac\u001b[39;00m \u001b[38;5;28;01mimport\u001b[39;00m LAC\n",
      "File \u001b[1;32mE:\\Python\\lib\\site-packages\\LAC\\lac.py:28\u001b[0m\n\u001b[0;32m     25\u001b[0m \u001b[38;5;28;01mimport\u001b[39;00m \u001b[38;5;21;01mlogging\u001b[39;00m\n\u001b[0;32m     27\u001b[0m \u001b[38;5;28;01mimport\u001b[39;00m \u001b[38;5;21;01mnumpy\u001b[39;00m \u001b[38;5;28;01mas\u001b[39;00m \u001b[38;5;21;01mnp\u001b[39;00m\n\u001b[1;32m---> 28\u001b[0m \u001b[38;5;28;01mimport\u001b[39;00m \u001b[38;5;21;01mpaddle\u001b[39;00m\u001b[38;5;21;01m.\u001b[39;00m\u001b[38;5;21;01mfluid\u001b[39;00m \u001b[38;5;28;01mas\u001b[39;00m \u001b[38;5;21;01mfluid\u001b[39;00m\n\u001b[0;32m     29\u001b[0m \u001b[38;5;28;01mfrom\u001b[39;00m \u001b[38;5;21;01mpaddle\u001b[39;00m\u001b[38;5;21;01m.\u001b[39;00m\u001b[38;5;21;01mfluid\u001b[39;00m\u001b[38;5;21;01m.\u001b[39;00m\u001b[38;5;21;01mcore\u001b[39;00m \u001b[38;5;28;01mimport\u001b[39;00m PaddleTensor\n\u001b[0;32m     30\u001b[0m \u001b[38;5;28;01mfrom\u001b[39;00m \u001b[38;5;21;01mpaddle\u001b[39;00m\u001b[38;5;21;01m.\u001b[39;00m\u001b[38;5;21;01mfluid\u001b[39;00m\u001b[38;5;21;01m.\u001b[39;00m\u001b[38;5;21;01mcore\u001b[39;00m \u001b[38;5;28;01mimport\u001b[39;00m AnalysisConfig\n",
      "\u001b[1;31mModuleNotFoundError\u001b[0m: No module named 'paddle.fluid'"
     ]
    }
   ],
   "source": []
  }
 ],
 "metadata": {
  "kernelspec": {
   "display_name": "Python 3 (ipykernel)",
   "language": "python",
   "name": "python3"
  },
  "language_info": {
   "codemirror_mode": {
    "name": "ipython",
    "version": 3
   },
   "file_extension": ".py",
   "mimetype": "text/x-python",
   "name": "python",
   "nbconvert_exporter": "python",
   "pygments_lexer": "ipython3",
   "version": "3.10.3"
  }
 },
 "nbformat": 4,
 "nbformat_minor": 5
}
